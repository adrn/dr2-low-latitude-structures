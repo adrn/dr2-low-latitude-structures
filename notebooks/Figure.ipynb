{
 "cells": [
  {
   "cell_type": "code",
   "execution_count": null,
   "metadata": {},
   "outputs": [],
   "source": [
    "# Third-party\n",
    "from astropy.io import ascii\n",
    "from astropy.table import Table, join, vstack\n",
    "import astropy.coordinates as coord\n",
    "import astropy.units as u\n",
    "import matplotlib as mpl\n",
    "import matplotlib.pyplot as plt\n",
    "import numpy as np\n",
    "%matplotlib inline\n",
    "from pyia import GaiaData"
   ]
  },
  {
   "cell_type": "code",
   "execution_count": null,
   "metadata": {},
   "outputs": [],
   "source": [
    "mgiants = Table.read('../../low-latitude-structures/data/mgiants-only.csv', format='ascii.csv')\n",
    "mgiants.remove_column('ra')\n",
    "mgiants.remove_column('dec')"
   ]
  },
  {
   "cell_type": "code",
   "execution_count": null,
   "metadata": {},
   "outputs": [],
   "source": [
    "xmatch = Table.read('../../low-latitude-structures/data/mgiants-gaiadr2.fits')\n",
    "xmatch.rename_column('id', 'ID')\n",
    "xmatch.rename_column('dist', 'angdist')"
   ]
  },
  {
   "cell_type": "code",
   "execution_count": null,
   "metadata": {},
   "outputs": [],
   "source": [
    "tbl = join(mgiants, xmatch, keys='ID')\n",
    "tbl = tbl[tbl['structure'] == 'TriAnd']"
   ]
  },
  {
   "cell_type": "code",
   "execution_count": null,
   "metadata": {},
   "outputs": [],
   "source": [
    "c = coord.SkyCoord(ra=tbl['ra'], dec=tbl['dec'])\n",
    "fk5 = c.transform_to(coord.FK5)"
   ]
  },
  {
   "cell_type": "code",
   "execution_count": null,
   "metadata": {},
   "outputs": [],
   "source": [
    "ta1 = ascii.read('../../low-latitude-structures/data/TA1_CaT.txt')\n",
    "ta2 = ascii.read('../../low-latitude-structures/data/TA2_CaT.txt')\n",
    "ta_cat = vstack((ta1, ta2))"
   ]
  },
  {
   "cell_type": "code",
   "execution_count": null,
   "metadata": {},
   "outputs": [],
   "source": [
    "ta_cat_ra = []\n",
    "ta_cat_dec = []\n",
    "for row in ta_cat:\n",
    "    _ra = row['2MASSID'][:7]\n",
    "    _dec = row['2MASSID'][7:]\n",
    "    ra = coord.Longitude(':'.join([_ra[:2], _ra[2:4], '.'.join([_ra[4:6], _ra[6]])]), \n",
    "                         unit=u.hourangle)\n",
    "    dec = coord.Latitude(':'.join([_dec[:3], _dec[3:5], _dec[5:]]),\n",
    "                         unit=u.degree)\n",
    "    ta_cat_ra.append(ra)\n",
    "    ta_cat_dec.append(dec)\n",
    "    \n",
    "    # print(_ra, ra, _ra[4:])\n",
    "    # print(_dec, dec, _dec[5:])\n",
    "    # print()\n",
    "    \n",
    "ta_cat_ra = coord.Longitude(ta_cat_ra)\n",
    "ta_cat_dec = coord.Latitude(ta_cat_dec)\n",
    "ta_cat_c = coord.SkyCoord(ra=ta_cat_ra, dec=ta_cat_dec)"
   ]
  },
  {
   "cell_type": "code",
   "execution_count": null,
   "metadata": {},
   "outputs": [],
   "source": [
    "idx, sep, _ = fk5.match_to_catalog_sky(ta_cat_c)\n",
    "plt.hist(sep.arcmin, bins=np.logspace(-3, 3, 100));\n",
    "plt.xscale('log')\n",
    "\n",
    "feh = np.full(len(c), np.nan)\n",
    "feh[sep < 1*u.arcmin] = ta_cat['[Fe/H]'][idx[sep < 1*u.arcmin]]\n",
    "\n",
    "dist = np.full(len(c), np.nan)\n",
    "dist[sep < 1*u.arcmin] = ta_cat['dist'][idx[sep < 1*u.arcmin]]\n",
    "dist_err = 0.15 * dist\n",
    "\n",
    "tbl['feh'] = feh\n",
    "tbl['dist'] = dist * u.kpc\n",
    "tbl['dist_err'] = dist_err * u.kpc"
   ]
  },
  {
   "cell_type": "code",
   "execution_count": null,
   "metadata": {},
   "outputs": [],
   "source": [
    "# # My attempt to compute distance using relation from Sheffield et al.\n",
    "# M_K = (3.8 + 1.3*feh) - 8.4*(tbl['J-Ks'])\n",
    "# apw_dist = coord.Distance(distmod=tbl['Ks'] - M_K).to(u.kpc)\n",
    "# apw_dist_err = 0.15 * dist"
   ]
  },
  {
   "cell_type": "code",
   "execution_count": null,
   "metadata": {},
   "outputs": [],
   "source": [
    "g = GaiaData(tbl[np.isfinite(tbl['dist'])])"
   ]
  },
  {
   "cell_type": "code",
   "execution_count": null,
   "metadata": {},
   "outputs": [],
   "source": [
    "all_c = g.get_skycoord(distance=g.dist, \n",
    "                       radial_velocity=g.v_hel*u.km/u.s)\n",
    "gal_c = all_c.transform_to(coord.Galactocentric(galcen_distance=8*u.kpc))"
   ]
  },
  {
   "cell_type": "code",
   "execution_count": null,
   "metadata": {},
   "outputs": [],
   "source": [
    "cyl = gal_c.represent_as('cylindrical')"
   ]
  },
  {
   "cell_type": "code",
   "execution_count": null,
   "metadata": {},
   "outputs": [],
   "source": [
    "vR = cyl.differentials['s'].d_rho.to(u.km/u.s)\n",
    "vphi = (cyl.rho * cyl.differentials['s'].d_phi).to(u.km/u.s, u.dimensionless_angles())\n",
    "vz = cyl.differentials['s'].d_z.to(u.km/u.s)"
   ]
  },
  {
   "cell_type": "code",
   "execution_count": null,
   "metadata": {},
   "outputs": [],
   "source": [
    "plt.hist(gal_c.transform_to(coord.Galactocentric).velocity.norm().value, bins=np.linspace(120, 250, 32));\n",
    "plt.xlabel(r'$v_{\\rm tot}$')"
   ]
  },
  {
   "cell_type": "code",
   "execution_count": null,
   "metadata": {},
   "outputs": [],
   "source": [
    "fig, ax = plt.subplots(1, 1, figsize=(6, 5))\n",
    "\n",
    "ax.scatter(all_c.galactic.l.degree, \n",
    "           all_c.radial_velocity, color='#aaaaaa')\n",
    "# ax.scatter(all_c.galactic.l.degree[mask], \n",
    "#            all_c.radial_velocity[mask], \n",
    "#            color='k')bb\n",
    "\n",
    "l = np.linspace(95, 250, 128)\n",
    "\n",
    "ax.plot(l, 2.3*(l-150) - 110)\n",
    "ax.plot(l, 2.3*(l-150) - 35)\n",
    "\n",
    "ax.set_ylim(-350, 350)"
   ]
  },
  {
   "cell_type": "code",
   "execution_count": null,
   "metadata": {},
   "outputs": [],
   "source": [
    "nsamples = 1024\n",
    "\n",
    "dist_samples = np.random.normal(g.dist, g.dist_err, \n",
    "                                size=(nsamples, len(g))).T * u.kpc\n",
    "\n",
    "pm = np.vstack((g.pmra.value, g.pmdec.value)).T\n",
    "pmcov = g.get_cov()[:, 3:5, 3:5]\n",
    "pm_samples = np.array([np.random.multivariate_normal(pm[i], pmcov[i], size=nsamples) \n",
    "                       for i in range(len(pm))]) * g.pmra.unit\n",
    "\n",
    "rv_samples = np.random.normal(g.v_hel, g.v_err, size=(nsamples, len(g))).T * u.km/u.s\n",
    "\n",
    "c_samples = coord.SkyCoord(ra=g.ra[:, None],\n",
    "                           dec=g.dec[:, None],\n",
    "                           distance=dist_samples,\n",
    "                           pm_ra_cosdec=pm_samples[...,0],\n",
    "                           pm_dec=pm_samples[...,1],\n",
    "                           radial_velocity=rv_samples)\n",
    "\n",
    "gal_c_samples = c_samples.transform_to(coord.Galactocentric(galcen_distance=8*u.kpc))"
   ]
  },
  {
   "cell_type": "code",
   "execution_count": null,
   "metadata": {},
   "outputs": [],
   "source": [
    "cyl_samples = gal_c_samples.represent_as('cylindrical')\n",
    "\n",
    "vR_samples = cyl_samples.differentials['s'].d_rho.to(u.km/u.s)\n",
    "vphi_samples = (cyl_samples.rho * cyl_samples.differentials['s'].d_phi).to(u.km/u.s, u.dimensionless_angles())\n",
    "vz_samples = cyl_samples.differentials['s'].d_z.to(u.km/u.s)\n",
    "\n",
    "vcyl = np.stack((vR_samples.value,\n",
    "                 vphi_samples.value,\n",
    "                 vz_samples.value))\n",
    "\n",
    "med_vcyl = np.median(vcyl, axis=-1)\n",
    "std_vcyl = 1.5 * np.median(np.abs(vcyl - med_vcyl[..., None]), axis=-1)\n",
    "med_vtot = np.sqrt(np.sum(med_vcyl**2, axis=0))\n",
    "vtot_mask = (med_vtot > 100) & (med_vtot < 320)"
   ]
  },
  {
   "cell_type": "code",
   "execution_count": null,
   "metadata": {},
   "outputs": [],
   "source": [
    "med_xyz = np.median(gal_c_samples.cartesian.xyz, axis=-1)\n",
    "std_xyz = 1.5 * np.median(np.abs(gal_c_samples.cartesian.xyz - med_xyz[..., None]), axis=-1).value\n",
    "med_xyz = med_xyz.value"
   ]
  },
  {
   "cell_type": "code",
   "execution_count": null,
   "metadata": {},
   "outputs": [],
   "source": [
    "cyl_pos = np.stack((cyl_samples.rho.to(u.kpc).value,\n",
    "                    cyl_samples.phi.to(u.deg).value,\n",
    "                    cyl_samples.z.to(u.kpc).value))\n",
    "med_cyl = np.median(cyl_pos, axis=-1)\n",
    "std_cyl = 1.5 * np.median(np.abs(cyl_pos - med_cyl[..., None]), axis=-1)"
   ]
  },
  {
   "cell_type": "code",
   "execution_count": null,
   "metadata": {},
   "outputs": [],
   "source": [
    "style = dict(marker='o', ls='none', color='k',\n",
    "             ecolor='#aaaaaa', alpha=0.6)"
   ]
  },
  {
   "cell_type": "code",
   "execution_count": null,
   "metadata": {},
   "outputs": [],
   "source": [
    "fig, axes = plt.subplots(1, 2, figsize=(10, 5))\n",
    "\n",
    "ax = axes[0]\n",
    "ax.errorbar(med_xyz[0], med_xyz[1],\n",
    "            xerr=std_xyz[0], yerr=std_xyz[2],\n",
    "            **style)\n",
    "\n",
    "ax.scatter(-8, 0, marker='o', color='yellow')\n",
    "\n",
    "ax.set_xlim(-35, 0)\n",
    "ax.set_ylim(0, 35)\n",
    "\n",
    "for R in np.arange(15, 35+1, 5):\n",
    "    pa = mpl.patches.Circle((0,0), radius=R, \n",
    "                            facecolor='none', edgecolor='tab:blue', alpha=0.5)\n",
    "    ax.add_patch(pa)\n",
    "\n",
    "ax.set_xlabel('$x$ [kpc]')\n",
    "ax.set_ylabel('$y$ [kpc]')\n",
    "    \n",
    "# ---\n",
    "\n",
    "ax = axes[1]\n",
    "ax.errorbar(med_cyl[0], med_cyl[2],\n",
    "            xerr=std_cyl[0], yerr=std_cyl[2],\n",
    "            **style)\n",
    "\n",
    "ax.axhline(0)\n",
    "\n",
    "ax.set_xlim(10, 40)\n",
    "ax.set_ylim(-20, 10)\n",
    "\n",
    "ax.set_xlabel('$R$ [kpc]')\n",
    "ax.set_ylabel('$z$ [kpc]')\n",
    "\n",
    "\n",
    "for ax in axes:\n",
    "    ax.set_aspect('equal')\n",
    "    \n",
    "fig.tight_layout()\n",
    "\n",
    "fig.savefig('../plots/xy_Rz.png', dpi=250)"
   ]
  },
  {
   "cell_type": "code",
   "execution_count": null,
   "metadata": {},
   "outputs": [],
   "source": [
    "fig, axes = plt.subplots(2, 2, figsize=(7.3, 7), \n",
    "                         sharex='col', sharey='row')\n",
    "\n",
    "axes[0, 0].errorbar(med_vcyl[0], \n",
    "                    np.abs(med_vcyl[1]),\n",
    "                    xerr=std_vcyl[0],\n",
    "                    yerr=std_vcyl[1],\n",
    "                    **style)\n",
    "\n",
    "axes[1, 0].errorbar(med_vcyl[0], \n",
    "                    med_vcyl[2],\n",
    "                    xerr=std_vcyl[0],\n",
    "                    yerr=std_vcyl[2],\n",
    "                    **style)\n",
    "\n",
    "axes[1, 1].errorbar(np.abs(med_vcyl[1]), \n",
    "                    med_vcyl[2], \n",
    "                    xerr=std_vcyl[1],\n",
    "                    yerr=std_vcyl[2],\n",
    "                    **style)\n",
    "\n",
    "axes[1, 1].set_xlim(80, 320)\n",
    "axes[1, 1].set_ylim(-120, 120)\n",
    "axes[0, 0].set_xlim(-120, 120)\n",
    "axes[0, 0].set_ylim(80, 320)\n",
    "\n",
    "axes[1, 0].xaxis.set_ticks([-100, -50, 0, 50, 100])\n",
    "axes[1, 0].yaxis.set_ticks([-100, -50, 0, 50, 100])\n",
    "axes[1, 1].xaxis.set_ticks([100, 150, 200, 250, 300])\n",
    "axes[0, 0].yaxis.set_ticks([100, 150, 200, 250, 300])\n",
    "\n",
    "axes[0, 1].set_visible(False)\n",
    "\n",
    "axes[0, 0].set_ylabel('$|v_\\phi|$' + ' {0:latex_inline}'.format(u.km/u.s))\n",
    "axes[1, 0].set_ylabel('$v_z$' + ' {0:latex_inline}'.format(u.km/u.s))\n",
    "axes[1, 0].set_xlabel('$v_R$' + ' {0:latex_inline}'.format(u.km/u.s))\n",
    "axes[1, 1].set_xlabel('$|v_\\phi|$' + ' {0:latex_inline}'.format(u.km/u.s))\n",
    "\n",
    "axes[0, 0].axhline(220., zorder=-10, lw=3,\n",
    "                   color='tab:blue', alpha=0.5, marker='',\n",
    "                   label=r'$v_\\phi$ at solar circle')\n",
    "axes[1, 1].axvline(220., zorder=-10, lw=3,\n",
    "                   color='tab:blue', alpha=0.5, marker='')\n",
    "\n",
    "axes[0, 0].axhspan(90, 120, color='tab:purple', \n",
    "                   linewidth=0, alpha=0.4,\n",
    "                   label='prediction from\\nbaryonic mass')\n",
    "axes[1, 1].axvspan(90, 120, color='tab:purple', \n",
    "                   linewidth=0, alpha=0.4)\n",
    "\n",
    "axes[0, 0].legend(loc='upper right', fontsize=11)\n",
    "\n",
    "fig.tight_layout()\n",
    "\n",
    "fig.savefig('../plots/vrphiz.png', dpi=250)"
   ]
  },
  {
   "cell_type": "code",
   "execution_count": null,
   "metadata": {},
   "outputs": [],
   "source": [
    "fig, axes = plt.subplots(1, 3, figsize=(15, 5), sharey=True)\n",
    "\n",
    "for i in range(3):\n",
    "    if i == 1:\n",
    "        bins = np.arange(-350+0.1, 50, 10.)\n",
    "        axes[i].axvline(-220)\n",
    "    else:\n",
    "        bins = np.arange(-150, 150+0.1, 10.)\n",
    "        axes[i].axvline(0)\n",
    "    axes[i].hist(med_vcyl[i], bins=bins)\n",
    "    \n",
    "fig.tight_layout()"
   ]
  },
  {
   "cell_type": "code",
   "execution_count": null,
   "metadata": {},
   "outputs": [],
   "source": [
    "plt.errorbar(med_cyl[1][vtot_mask], \n",
    "             med_vcyl[2][vtot_mask],\n",
    "             xerr=std_cyl[1][vtot_mask],\n",
    "             yerr=std_vcyl[2][vtot_mask], \n",
    "             marker='o', ls='none')\n",
    "\n",
    "plt.xlim(110, 180)\n",
    "# plt.ylim(-15, 5)"
   ]
  },
  {
   "cell_type": "code",
   "execution_count": null,
   "metadata": {},
   "outputs": [],
   "source": [
    "plt.errorbar(med_cyl[1][vtot_mask], \n",
    "             med_vcyl[2][vtot_mask],\n",
    "             xerr=std_cyl[1][vtot_mask],\n",
    "             yerr=std_vcyl[2][vtot_mask], \n",
    "             marker='', ls='none')\n",
    "\n",
    "plt.scatter(med_cyl[1][vtot_mask], \n",
    "            med_vcyl[2][vtot_mask],\n",
    "            c=med_cyl[0][vtot_mask], \n",
    "            vmin=15, vmax=30, zorder=100)\n",
    "\n",
    "plt.xlim(110, 180)\n",
    "plt.ylim(-100, 200)\n",
    "\n",
    "plt.colorbar()"
   ]
  },
  {
   "cell_type": "markdown",
   "metadata": {},
   "source": [
    "---\n",
    "\n",
    "First do XD to get initial guess"
   ]
  },
  {
   "cell_type": "code",
   "execution_count": null,
   "metadata": {},
   "outputs": [],
   "source": [
    "from xdgmm import XDGMM"
   ]
  },
  {
   "cell_type": "code",
   "execution_count": null,
   "metadata": {},
   "outputs": [],
   "source": [
    "gmm = XDGMM(n_components=3)"
   ]
  },
  {
   "cell_type": "code",
   "execution_count": null,
   "metadata": {},
   "outputs": [],
   "source": [
    "cov_cyl = np.array([std_vcyl.T[i] * np.eye(3) \n",
    "                    for i in range(vcyl.shape[0])])"
   ]
  },
  {
   "cell_type": "code",
   "execution_count": null,
   "metadata": {},
   "outputs": [],
   "source": [
    "_ = gmm.fit(med_vcyl.T[vtot_mask], cov_cyl[vtot_mask])"
   ]
  },
  {
   "cell_type": "code",
   "execution_count": null,
   "metadata": {},
   "outputs": [],
   "source": [
    "gmm.mu"
   ]
  },
  {
   "cell_type": "code",
   "execution_count": null,
   "metadata": {},
   "outputs": [],
   "source": [
    "from astroML.plotting.tools import draw_ellipse"
   ]
  },
  {
   "cell_type": "code",
   "execution_count": null,
   "metadata": {},
   "outputs": [],
   "source": [
    "fig, ax = plt.subplots(1, 1, figsize=(6, 6))\n",
    "\n",
    "for i in range(gmm.n_components):\n",
    "    mu = gmm.mu[i][[0, 2]]\n",
    "    V = gmm.V[i].copy()\n",
    "    V = np.delete(V, 1, axis=0)\n",
    "    V = np.delete(V, 1, axis=1)\n",
    "    \n",
    "    draw_ellipse(mu, V, scales=[1], ax=ax,\n",
    "                 ec='k', fc='gray', alpha=0.2)\n",
    "    \n",
    "ax.errorbar(med_vcyl[0], \n",
    "            med_vcyl[2],\n",
    "            xerr=std_vcyl[0],\n",
    "            yerr=std_vcyl[2],\n",
    "            **style)\n",
    "    \n",
    "ax.set_xlim(-150, 150)\n",
    "ax.set_ylim(-150, 150)\n",
    "# ax.set_ylim(-400, 0)"
   ]
  },
  {
   "cell_type": "code",
   "execution_count": null,
   "metadata": {},
   "outputs": [],
   "source": []
  },
  {
   "cell_type": "code",
   "execution_count": null,
   "metadata": {},
   "outputs": [],
   "source": []
  },
  {
   "cell_type": "code",
   "execution_count": null,
   "metadata": {},
   "outputs": [],
   "source": []
  }
 ],
 "metadata": {
  "kernelspec": {
   "display_name": "Python [default]",
   "language": "python",
   "name": "python3"
  },
  "language_info": {
   "codemirror_mode": {
    "name": "ipython",
    "version": 3
   },
   "file_extension": ".py",
   "mimetype": "text/x-python",
   "name": "python",
   "nbconvert_exporter": "python",
   "pygments_lexer": "ipython3",
   "version": "3.6.8"
  }
 },
 "nbformat": 4,
 "nbformat_minor": 2
}
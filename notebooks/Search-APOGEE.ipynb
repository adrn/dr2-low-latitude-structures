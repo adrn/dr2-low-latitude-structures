{
 "cells": [
  {
   "cell_type": "code",
   "execution_count": null,
   "metadata": {},
   "outputs": [],
   "source": [
    "# Third-party\n",
    "import astropy.coordinates as coord\n",
    "from astropy.table import Table, join\n",
    "import astropy.units as u\n",
    "import matplotlib as mpl\n",
    "import matplotlib.pyplot as plt\n",
    "import numpy as np\n",
    "%matplotlib inline\n",
    "from scipy.interpolate import InterpolatedUnivariateSpline\n",
    "\n",
    "import gala.coordinates as gc\n",
    "import gala.dynamics as gd\n",
    "import gala.potential as gp\n",
    "from pyia import GaiaData\n",
    "from sfd import reddening"
   ]
  },
  {
   "cell_type": "code",
   "execution_count": null,
   "metadata": {},
   "outputs": [],
   "source": [
    "galcen_frame = coord.Galactocentric(galcen_distance=8.1*u.kpc, \n",
    "                                    z_sun=0*u.pc)"
   ]
  },
  {
   "cell_type": "code",
   "execution_count": null,
   "metadata": {},
   "outputs": [],
   "source": [
    "g = GaiaData('/Users/adrian/data/APOGEE_DR15beta/allStar-t9-l31c-58158-with-gaiadr2.fits')\n",
    "g = g[(g.FE_H_FLAG == 0) & \n",
    "      (g.FE_H_ERR < 0.1) & (g.MG_FE_ERR < 0.1) &\n",
    "      (g.FE_H > -2) & (g.FE_H < 0.5) &\n",
    "      (g.MG_FE > -2) & (g.MG_FE < 2) &\n",
    "      (g.LOGG < 3.5) & (g.LOGG > 0) &\n",
    "      (g.parallax < 1*u.mas) & \n",
    "      (np.abs(g.VHELIO_AVG) < 400)]\n",
    "len(g)"
   ]
  },
  {
   "cell_type": "code",
   "execution_count": null,
   "metadata": {},
   "outputs": [],
   "source": [
    "mean_tracks = np.load('../data/gal_mean_tracks.npy')\n",
    "std_tracks = np.load('../data/gal_std_tracks.npy')"
   ]
  },
  {
   "cell_type": "code",
   "execution_count": null,
   "metadata": {},
   "outputs": [],
   "source": [
    "skyc = g.get_skycoord(distance=False)\n",
    "skyc = skyc.galactic"
   ]
  },
  {
   "cell_type": "code",
   "execution_count": null,
   "metadata": {},
   "outputs": [],
   "source": [
    "EBV = g.get_ebv()\n",
    "AJHK = reddening(skyc, '2MASS', ['J', 'H', 'Ks'], ebv=EBV)\n",
    "\n",
    "J0 = g.J - AJHK[:, 0]\n",
    "Ks0 = g.K - AJHK[:, 2]\n",
    "JKs0 = J0 - Ks0"
   ]
  },
  {
   "cell_type": "code",
   "execution_count": null,
   "metadata": {},
   "outputs": [],
   "source": [
    "feh = g.FE_H\n",
    "dist = 0.75 * coord.Distance(distmod=Ks0 - ((3.8 + 1.3*feh) - 8.4 * JKs0)).to(u.kpc)\n",
    "\n",
    "dist_mask = ((dist > 5*u.kpc) & (dist < 25*u.kpc) &\n",
    "             (skyc.l.degree > 60) & (skyc.l.degree < 300))\n",
    "subg = g[dist_mask]\n",
    "c = subg.get_skycoord(distance=dist[dist_mask],\n",
    "                      radial_velocity=subg.VHELIO_AVG*u.km/u.s)\n",
    "c = c.galactic\n",
    "len(subg)"
   ]
  },
  {
   "cell_type": "code",
   "execution_count": null,
   "metadata": {},
   "outputs": [],
   "source": [
    "mask = np.ones(len(c), dtype=bool)\n",
    "for i, comp in zip([1, 3, 4, 5],\n",
    "                   ['b', 'pm_l_cosb', 'pm_b', 'radial_velocity']):\n",
    "    mean_spl = InterpolatedUnivariateSpline(mean_tracks[:, 0], mean_tracks[:, i])\n",
    "    std_spl = InterpolatedUnivariateSpline(std_tracks[:, 0], std_tracks[:, i])\n",
    "\n",
    "    mask &= np.abs(getattr(c, comp).value - mean_spl(c.l.degree)) < 4*std_spl(c.l.degree)\n",
    "mask.sum()"
   ]
  },
  {
   "cell_type": "code",
   "execution_count": null,
   "metadata": {},
   "outputs": [],
   "source": [
    "control_mask = np.ones(len(c), dtype=bool)\n",
    "for i, comp in zip([1, 3, 4, 5],\n",
    "                   ['b', 'pm_l_cosb', 'pm_b', 'radial_velocity']):\n",
    "    if i == 1:\n",
    "        mean_spl = InterpolatedUnivariateSpline(mean_tracks[:, 0], -mean_tracks[:, i])\n",
    "    else:\n",
    "        mean_spl = InterpolatedUnivariateSpline(mean_tracks[:, 0], mean_tracks[:, i])\n",
    "    std_spl = InterpolatedUnivariateSpline(std_tracks[:, 0], std_tracks[:, i])\n",
    "\n",
    "    control_mask &= np.abs(getattr(c, comp).value - mean_spl(c.l.degree)) < 4*std_spl(c.l.degree)\n",
    "control_mask.sum()"
   ]
  },
  {
   "cell_type": "code",
   "execution_count": null,
   "metadata": {},
   "outputs": [],
   "source": [
    "fig, axes = plt.subplots(5, 1, figsize=(12, 12),\n",
    "                         sharex=True)\n",
    "lims = [(-40, 40), (0, 35), (-6, 6), (-6, 6), (-250, 250)]\n",
    "for i, comp in zip(range(1, 5+1),\n",
    "                   ['b', 'distance', 'pm_l_cosb', 'pm_b', 'radial_velocity']):\n",
    "    ax = axes[i-1]\n",
    "    ax.plot(c.l.degree, \n",
    "            getattr(c, comp).value,\n",
    "            marker='.', ls='none', color='#aaaaaa')\n",
    "    ax.plot(c.l.degree[mask], \n",
    "            getattr(c, comp).value[mask],\n",
    "            marker='.', ls='none', color='k')\n",
    "    ax.set_ylim(lims[i-1])\n",
    "    \n",
    "    mean_spl = InterpolatedUnivariateSpline(mean_tracks[:, 0], mean_tracks[:, i])\n",
    "    grid = np.linspace(0, 360, 1024)\n",
    "    ax.plot(grid, mean_spl(grid))\n",
    "\n",
    "ax.set_xlim(300, 60)\n",
    "\n",
    "fig.tight_layout()"
   ]
  },
  {
   "cell_type": "code",
   "execution_count": null,
   "metadata": {},
   "outputs": [],
   "source": [
    "bins = (np.arange(-2, 0.5, 0.04),\n",
    "        np.arange(-0.5, 1., 0.02))\n",
    "\n",
    "H1, xe, ye = np.histogram2d(subg.FE_H[mask], subg.ALPHA_M[mask],\n",
    "                            bins=bins)\n",
    "H2, xe, ye = np.histogram2d(subg.FE_H[control_mask], subg.ALPHA_M[control_mask],\n",
    "                            bins=bins)\n",
    "f = (H1.sum() / H2.sum())\n",
    "\n",
    "fig, axes = plt.subplots(1, 3, figsize=(12, 4),\n",
    "                         sharex=True, sharey=True)\n",
    "# axes[0].pcolormesh(xe, ye, H1.T)\n",
    "# axes[1].pcolormesh(xe, ye, H2.T)\n",
    "axes[0].plot(subg.FE_H[mask], subg.ALPHA_M[mask], \n",
    "             marker='o', ls='none', color='k', alpha=0.5)\n",
    "axes[1].plot(subg.FE_H[control_mask], subg.ALPHA_M[control_mask], \n",
    "             marker='o', ls='none', color='k', alpha=0.5)\n",
    "axes[2].pcolormesh(xe, ye, (H1 - f*H2).T,\n",
    "                   cmap='RdBu', \n",
    "                   vmin=-4, vmax=4)\n",
    "\n",
    "axes[0].set_ylim(-0.25, 0.4)\n",
    "\n",
    "fig.tight_layout()"
   ]
  },
  {
   "cell_type": "code",
   "execution_count": null,
   "metadata": {},
   "outputs": [],
   "source": []
  },
  {
   "cell_type": "code",
   "execution_count": null,
   "metadata": {},
   "outputs": [],
   "source": []
  }
 ],
 "metadata": {
  "kernelspec": {
   "display_name": "Python [default]",
   "language": "python",
   "name": "python3"
  },
  "language_info": {
   "codemirror_mode": {
    "name": "ipython",
    "version": 3
   },
   "file_extension": ".py",
   "mimetype": "text/x-python",
   "name": "python",
   "nbconvert_exporter": "python",
   "pygments_lexer": "ipython3",
   "version": "3.6.8"
  }
 },
 "nbformat": 4,
 "nbformat_minor": 2
}
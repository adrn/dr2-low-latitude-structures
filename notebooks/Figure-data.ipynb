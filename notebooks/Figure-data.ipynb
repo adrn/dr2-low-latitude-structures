{
 "cells": [
  {
   "cell_type": "code",
   "execution_count": null,
   "metadata": {},
   "outputs": [],
   "source": [
    "# Third-party\n",
    "import astropy.coordinates as coord\n",
    "from astropy.table import Table, join\n",
    "import astropy.units as u\n",
    "import matplotlib as mpl\n",
    "import matplotlib.pyplot as plt\n",
    "import numpy as np\n",
    "%matplotlib inline\n",
    "\n",
    "import gala.coordinates as gc\n",
    "import gala.dynamics as gd\n",
    "import gala.potential as gp\n",
    "from pyia import GaiaData\n",
    "\n",
    "from helpers import galcen_frame, triand_color, a13_color"
   ]
  },
  {
   "cell_type": "code",
   "execution_count": null,
   "metadata": {},
   "outputs": [],
   "source": [
    "g_l17 = GaiaData('../data/Li2017-Gaia-master.fits')\n",
    "g_s14 = GaiaData('../data/Sheffield2014-Gaia-master.fits')"
   ]
  },
  {
   "cell_type": "code",
   "execution_count": null,
   "metadata": {},
   "outputs": [],
   "source": [
    "c_l17 = g_l17.get_skycoord(distance=g_l17.apw_distance * u.kpc,\n",
    "                           radial_velocity=g_l17.rv*u.km/u.s)\n",
    "c_s14 = g_s14.get_skycoord(distance=g_s14.apw_distance * u.kpc,\n",
    "                           radial_velocity=g_s14.rv*u.km/u.s)\n",
    "\n",
    "g_s14 = g_s14[c_s14.velocity.norm() < 500*u.km/u.s]\n",
    "c_s14 = c_s14[c_s14.velocity.norm() < 500*u.km/u.s]"
   ]
  },
  {
   "cell_type": "code",
   "execution_count": null,
   "metadata": {},
   "outputs": [],
   "source": [
    "plt.figure(figsize=(6, 4))\n",
    "plt.hist(c_s14.distance.kpc, bins='auto', alpha=0.75, color=triand_color)\n",
    "plt.hist(c_l17.distance.kpc, bins='auto', alpha=0.75, color=a13_color);"
   ]
  },
  {
   "cell_type": "code",
   "execution_count": null,
   "metadata": {},
   "outputs": [],
   "source": [
    "c_ref_l17 = gc.reflex_correct(c_l17)\n",
    "c_ref_s14 = gc.reflex_correct(c_s14)\n",
    "\n",
    "gal_l17 = c_ref_l17.galactic\n",
    "gal_s14 = c_ref_s14.galactic\n",
    "\n",
    "galcen_l17 = c_l17.transform_to(galcen_frame)\n",
    "galcen_s14 = c_s14.transform_to(galcen_frame)"
   ]
  },
  {
   "cell_type": "code",
   "execution_count": null,
   "metadata": {},
   "outputs": [],
   "source": [
    "fig, axes = plt.subplots(1, 2, figsize=(10, 5))\n",
    "\n",
    "\n",
    "\n",
    "for galcen, color, lbl in zip([galcen_s14, galcen_l17],\n",
    "                              [triand_color, a13_color],\n",
    "                              ['TriAnd', 'A13']):\n",
    "    \n",
    "    for i, xn, yn in [(0, 'x', 'y'), (1, 'y', 'z')]:\n",
    "        axes[i].plot(getattr(galcen, xn).value,\n",
    "                     getattr(galcen, yn).value,\n",
    "                     marker='o', ls='none', \n",
    "                     color=color, ms=3, alpha=0.6)\n",
    "\n",
    "        axes[i].quiver(getattr(galcen, xn).value,\n",
    "                       getattr(galcen, yn).value,\n",
    "                       getattr(galcen, 'v_'+xn).value,\n",
    "                       getattr(galcen, 'v_'+yn).value,\n",
    "                       scale=2.5e3, alpha=0.6,\n",
    "                       color=color, width=5e-3,\n",
    "                       label=lbl)\n",
    "\n",
    "\n",
    "ax = axes[0] \n",
    "ax.text(-8.1, 0, '$\\odot$', fontsize=20,\n",
    "        ha='center', va='center')\n",
    "\n",
    "ax.set_xlim(-37.5, 7.5)\n",
    "ax.set_ylim(-17.5, 27.5)\n",
    "\n",
    "\n",
    "ax = axes[1]\n",
    "ax.text(0, 0, '$\\odot$', fontsize=20,\n",
    "        ha='center', va='center')\n",
    "\n",
    "ax.set_xlim(-22.5, 22.5)\n",
    "ax.set_ylim(-22.5, 22.5)\n",
    "\n",
    "\n",
    "for ax in axes:\n",
    "    ax.axhline(0, zorder=-100, color='#cccccc')\n",
    "    ax.axvline(0, zorder=-100, color='#cccccc')\n",
    "\n",
    "    \n",
    "axes[0].set_xlabel('$x$ [kpc]')\n",
    "axes[0].set_ylabel('$y$ [kpc]')\n",
    "\n",
    "axes[1].set_xlabel('$y$ [kpc]')\n",
    "axes[1].set_ylabel('$z$ [kpc]')\n",
    "\n",
    "for r in [10, 20, 30]:\n",
    "    circ = mpl.patches.Circle((0, 0), radius=r,\n",
    "                              facecolor='none', \n",
    "                              edgecolor='k',\n",
    "                              zorder=-100)\n",
    "    axes[0].add_patch(circ)\n",
    "\n",
    "fig.tight_layout()\n",
    "\n",
    "axes[1].legend(loc='lower left', fontsize=12)\n",
    "\n",
    "for ax in axes:\n",
    "    ax.set_aspect('equal')\n",
    "    \n",
    "fig.savefig('../paper/figure-pos.pdf')"
   ]
  },
  {
   "cell_type": "code",
   "execution_count": null,
   "metadata": {},
   "outputs": [],
   "source": []
  }
 ],
 "metadata": {
  "kernelspec": {
   "display_name": "Python [default]",
   "language": "python",
   "name": "python3"
  },
  "language_info": {
   "codemirror_mode": {
    "name": "ipython",
    "version": 3
   },
   "file_extension": ".py",
   "mimetype": "text/x-python",
   "name": "python",
   "nbconvert_exporter": "python",
   "pygments_lexer": "ipython3",
   "version": "3.6.4"
  }
 },
 "nbformat": 4,
 "nbformat_minor": 2
}
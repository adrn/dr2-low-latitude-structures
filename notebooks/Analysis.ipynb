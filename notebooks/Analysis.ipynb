{
 "cells": [
  {
   "cell_type": "code",
   "execution_count": null,
   "metadata": {},
   "outputs": [],
   "source": [
    "# Third-party\n",
    "import astropy.coordinates as coord\n",
    "from astropy.table import Table, join\n",
    "import astropy.units as u\n",
    "import matplotlib as mpl\n",
    "import matplotlib.pyplot as plt\n",
    "import numpy as np\n",
    "%matplotlib inline\n",
    "\n",
    "import gala.coordinates as gc\n",
    "import gala.dynamics as gd\n",
    "import gala.potential as gp\n",
    "from pyia import GaiaData\n",
    "\n",
    "from helpers import galcen_frame"
   ]
  },
  {
   "cell_type": "code",
   "execution_count": null,
   "metadata": {},
   "outputs": [],
   "source": [
    "g_l17 = GaiaData('../data/Li2017-Gaia-master.fits')\n",
    "g_s14 = GaiaData('../data/Sheffield2014-Gaia-master.fits')"
   ]
  },
  {
   "cell_type": "code",
   "execution_count": null,
   "metadata": {},
   "outputs": [],
   "source": [
    "c_l17 = g_l17.get_skycoord(distance=g_l17.apw_distance * u.kpc,\n",
    "                           radial_velocity=g_l17.rv*u.km/u.s)\n",
    "c_s14 = g_s14.get_skycoord(distance=g_s14.apw_distance * u.kpc,\n",
    "                           radial_velocity=g_s14.rv*u.km/u.s)"
   ]
  },
  {
   "cell_type": "code",
   "execution_count": null,
   "metadata": {},
   "outputs": [],
   "source": [
    "plt.figure(figsize=(6, 4))\n",
    "plt.hist(c_s14.distance.kpc, bins='auto', alpha=0.75)\n",
    "plt.hist(c_l17.distance.kpc, bins='auto', alpha=0.75);"
   ]
  },
  {
   "cell_type": "code",
   "execution_count": null,
   "metadata": {},
   "outputs": [],
   "source": [
    "c_ref_l17 = gc.reflex_correct(c_l17)\n",
    "c_ref_s14 = gc.reflex_correct(c_s14)\n",
    "\n",
    "gal_l17 = c_ref_l17.galactic\n",
    "gal_s14 = c_ref_s14.galactic\n",
    "\n",
    "galcen_l17 = c_l17.transform_to(galcen_frame)\n",
    "galcen_s14 = c_s14.transform_to(galcen_frame)\n",
    "\n",
    "galcen_samples = [c.transform_to(galcen_frame) for c in c_samples]\n",
    "cyl_samples = [c.transform_to(galcen_frame) for c in c_samples]\n",
    "for cyl in cyl_samples:\n",
    "    cyl.set_representation_cls('cylindrical')"
   ]
  },
  {
   "cell_type": "markdown",
   "metadata": {},
   "source": [
    "## Generate error samples"
   ]
  },
  {
   "cell_type": "markdown",
   "metadata": {},
   "source": [
    "Conservative guess at RV error - see `Compile-data.ipynb`"
   ]
  },
  {
   "cell_type": "code",
   "execution_count": null,
   "metadata": {},
   "outputs": [],
   "source": [
    "rv_err = 8. * u.km/u.s # MAGIC NUMBER\n",
    "n_samples = 1024"
   ]
  },
  {
   "cell_type": "code",
   "execution_count": null,
   "metadata": {},
   "outputs": [],
   "source": [
    "g = g_l17\n",
    "c = c_l17"
   ]
  },
  {
   "cell_type": "code",
   "execution_count": null,
   "metadata": {},
   "outputs": [],
   "source": [
    "c_samples = [] \n",
    "for g, c in zip([g_l17, g_s14], [c_l17, c_s14]):\n",
    "    Cov = g.get_cov()\n",
    "    Cov[:, 5, 5] = rv_err.to_value(u.km/u.s) ** 2\n",
    "    Cov[:, 2, :] = 0. # zero out parallax error\n",
    "    Cov[:, :, 2] = 0. # zero out parallax error\n",
    "    Cov[:, 2, 2] = (0.15 * c.distance.kpc) ** 2 # MAGIC NUMBER: 15% distance error\n",
    "\n",
    "    mu = np.vstack((c.ra.degree, c.dec.degree, c.distance.kpc,\n",
    "                    c.pm_ra_cosdec.to_value(u.mas/u.yr),\n",
    "                    c.pm_dec.to_value(u.mas/u.yr),\n",
    "                    c.radial_velocity.to_value(u.km/u.s))).T\n",
    "\n",
    "    samples = np.stack([np.random.multivariate_normal(mu[i], Cov[i], size=n_samples)\n",
    "                        for i in range(mu.shape[0])])\n",
    "    _c_samples = coord.SkyCoord(ra=samples[..., 0]*u.deg,\n",
    "                                dec=samples[..., 1]*u.deg,\n",
    "                                distance=samples[..., 2]*u.kpc,\n",
    "                                pm_ra_cosdec=samples[..., 3]*u.mas/u.yr,\n",
    "                                pm_dec=samples[..., 4]*u.mas/u.yr,\n",
    "                                radial_velocity=samples[..., 5]*u.km/u.s)\n",
    "    c_samples.append(_c_samples)"
   ]
  },
  {
   "cell_type": "code",
   "execution_count": null,
   "metadata": {},
   "outputs": [],
   "source": [
    "for i in range(cyl_samples[0].shape[0]):\n",
    "    plt.plot(cyl_samples[1].d_rho[i],\n",
    "             (cyl_samples[1].rho[i] * cyl_samples[1].d_phi[i]).to_value(u.km/u.s, u.dimensionless_angles()),\n",
    "             marker='.', ls='none', alpha=0.1);\n",
    "plt.xlim(-50, 50)\n",
    "plt.ylim(-220-75, -220+175)"
   ]
  },
  {
   "cell_type": "code",
   "execution_count": null,
   "metadata": {},
   "outputs": [],
   "source": []
  },
  {
   "cell_type": "code",
   "execution_count": null,
   "metadata": {},
   "outputs": [],
   "source": [
    "fig, axes = plt.subplots(3, 1, figsize=(8, 10),\n",
    "                         sharex=True)\n",
    "\n",
    "for i, name in enumerate(['pm_l_cosb', 'pm_b', 'radial_velocity']):\n",
    "    for gal in [gal_s14, gal_l17]:\n",
    "        axes[i].scatter(gal.l.degree, \n",
    "                        getattr(gal, name).value)\n",
    "        \n",
    "axes[0].set_ylim(-5, 5)\n",
    "axes[1].set_ylim(-5, 5)\n",
    "axes[2].set_ylim(-275, 125)\n",
    "\n",
    "fig.tight_layout()"
   ]
  },
  {
   "cell_type": "code",
   "execution_count": null,
   "metadata": {},
   "outputs": [],
   "source": [
    "fig, axes = plt.subplots(3, 1, figsize=(8, 10),\n",
    "                         sharex=True)\n",
    "\n",
    "for i, name in enumerate(['v_x', 'v_y', 'v_z']):\n",
    "    for gal, galc in zip([gal_s14, gal_l17], \n",
    "                         [galcen_s14, galcen_l17]):\n",
    "        axes[i].scatter(gal.l.degree, \n",
    "                        getattr(galc, name).value)\n",
    "        \n",
    "axes[0].set_ylim(-100, 300)\n",
    "axes[1].set_ylim(-300 + 220, 100 + 220)\n",
    "axes[2].set_ylim(-150, 150)\n",
    "\n",
    "fig.tight_layout()"
   ]
  },
  {
   "cell_type": "code",
   "execution_count": null,
   "metadata": {},
   "outputs": [],
   "source": [
    "fig, axes = plt.subplots(3, 1, figsize=(8, 10),\n",
    "                         sharex=True)\n",
    "\n",
    "for lbl, gal, galc in zip(['TriAnd region', 'A13'],\n",
    "                          [gal_s14, gal_l17], \n",
    "                          [galcen_s14, galcen_l17]):\n",
    "    cyl = galc.represent_as('cylindrical')\n",
    "    vcyl = cyl.differentials['s']\n",
    "    \n",
    "    axes[0].scatter(gal.l.degree, \n",
    "                    vcyl.d_rho.to_value(u.km/u.s), \n",
    "                    label=lbl)\n",
    "    axes[1].scatter(gal.l.degree, \n",
    "                    (cyl.rho * vcyl.d_phi).to_value(u.km/u.s, u.dimensionless_angles()))\n",
    "    axes[2].scatter(gal.l.degree, \n",
    "                    vcyl.d_z.to_value(u.km/u.s))\n",
    "\n",
    "axes[1].axhline(-240.)\n",
    "    \n",
    "axes[0].set_ylim(-150, 150)\n",
    "axes[1].set_ylim(-350, 0)\n",
    "axes[2].set_ylim(-150, 150)\n",
    "\n",
    "axes[0].set_xlim(215, 95)\n",
    "\n",
    "axes[0].set_ylabel('$v_R$')\n",
    "axes[1].set_ylabel(r'$v_\\phi$')\n",
    "axes[2].set_ylabel('$v_z$')\n",
    "axes[2].set_xlabel('$l$ [deg]')\n",
    "\n",
    "axes[0].legend(loc='best', fontsize=14)\n",
    "\n",
    "fig.tight_layout()\n",
    "\n",
    "fig.savefig('../plots/cyl.png', dpi=250)"
   ]
  },
  {
   "cell_type": "code",
   "execution_count": null,
   "metadata": {},
   "outputs": [],
   "source": [
    "fig, ax = plt.subplots(1, 1, figsize=(8, 3.5),\n",
    "                         sharex=True)\n",
    "\n",
    "for i, name in enumerate(['z']):\n",
    "    for gal, galc in zip([gal_s14, gal_l17], \n",
    "                         [galcen_s14, galcen_l17]):\n",
    "        ax.scatter(gal.l.degree, \n",
    "                   getattr(galc, name).value)\n",
    "        \n",
    "# axes[0].set_ylim(-100, 300)\n",
    "# axes[1].set_ylim(-300 + 220, 100 + 220)\n",
    "# axes[2].set_ylim(-150, 150)\n",
    "\n",
    "fig.tight_layout()"
   ]
  },
  {
   "cell_type": "markdown",
   "metadata": {},
   "source": [
    "---"
   ]
  },
  {
   "cell_type": "code",
   "execution_count": null,
   "metadata": {},
   "outputs": [],
   "source": [
    "test_mask = ((gal_s14.l < 140*u.deg) & (gal_s14.l > 120*u.deg) &\n",
    "             (galcen_s14.v_z > 5*u.km/u.s) & (galcen_s14.v_z < 100*u.km/u.s) & \n",
    "             (galcen_s14.v_y > 100*u.km/u.s) & (galcen_s14.v_y < 180*u.km/u.s))"
   ]
  },
  {
   "cell_type": "code",
   "execution_count": null,
   "metadata": {},
   "outputs": [],
   "source": [
    "w0 = gd.PhaseSpacePosition(galcen_s14[test_mask].cartesian)\n",
    "# w0 = gd.PhaseSpacePosition(galcen_s14.cartesian)"
   ]
  },
  {
   "cell_type": "code",
   "execution_count": null,
   "metadata": {},
   "outputs": [],
   "source": [
    "# mw = gp.MilkyWayPotential()\n",
    "mw = gp.BovyMWPotential2014()"
   ]
  },
  {
   "cell_type": "code",
   "execution_count": null,
   "metadata": {},
   "outputs": [],
   "source": [
    "_orbits_back = mw.integrate_orbit(w0, dt=-0.5*u.Myr, n_steps=500)\n",
    "orbits = mw.integrate_orbit(_orbits_back[-1], dt=0.5*u.Myr, n_steps=1000)"
   ]
  },
  {
   "cell_type": "code",
   "execution_count": null,
   "metadata": {},
   "outputs": [],
   "source": [
    "fig = orbits.plot()\n",
    "# orbits_forw.plot(axes=fig.axes)\n",
    "for ax in fig.axes:\n",
    "    ax.set_xlim(-25, 25)\n",
    "    ax.set_ylim(-25, 25)\n",
    "    \n",
    "fig.savefig('../plots/orbits.png', dpi=250)"
   ]
  },
  {
   "cell_type": "code",
   "execution_count": null,
   "metadata": {},
   "outputs": [],
   "source": [
    "orbits_gal = orbits.to_coord_frame(coord.Galactic, \n",
    "                                   galactocentric_frame=galcen_frame)"
   ]
  },
  {
   "cell_type": "code",
   "execution_count": null,
   "metadata": {},
   "outputs": [],
   "source": [
    "fig, axes = plt.subplots(3, 1, figsize=(8, 10),\n",
    "                         sharex=True)\n",
    "\n",
    "for i, name in enumerate(['pm_l_cosb', 'pm_b', 'radial_velocity']):\n",
    "    for lbl, gal, galc in zip(['TriAnd region', 'A13'],\n",
    "                              [c_s14.galactic, c_l17.galactic], \n",
    "                              [galcen_s14, galcen_l17]):\n",
    "        axes[i].scatter(gal.l.degree, \n",
    "                        getattr(gal, name).value,\n",
    "                        label=lbl)\n",
    "    \n",
    "    axes[i].plot(orbits_gal.l.degree,\n",
    "                 getattr(orbits_gal, name).value,\n",
    "                 color='#aaaaaa', alpha=0.7, zorder=-100, marker='.', ls='none')\n",
    "    \n",
    "    axes[i].set_ylabel(name)\n",
    "    \n",
    "axes[0].legend(loc='best', fontsize=14)\n",
    "    \n",
    "axes[0].set_ylim(-6, 6)\n",
    "axes[1].set_ylim(-6, 6)\n",
    "axes[2].set_ylim(-225, 225)\n",
    "\n",
    "axes[0].set_xlim(215, 95)\n",
    "axes[2].set_xlabel('$l$ [deg]')\n",
    "\n",
    "fig.tight_layout()\n",
    "fig.savefig('../plots/obs_orbits.png', dpi=250)"
   ]
  },
  {
   "cell_type": "markdown",
   "metadata": {},
   "source": [
    "---"
   ]
  },
  {
   "cell_type": "code",
   "execution_count": null,
   "metadata": {},
   "outputs": [],
   "source": [
    "from scipy.stats import binned_statistic\n",
    "from scipy.ndimage import gaussian_filter1d"
   ]
  },
  {
   "cell_type": "code",
   "execution_count": null,
   "metadata": {},
   "outputs": [],
   "source": [
    "bins = np.linspace(60, 300, 256)\n",
    "x = 0.5 * (stat.bin_edges[:-1] + stat.bin_edges[1:])\n",
    "\n",
    "ys = [orbits_gal.b.degree,\n",
    "      orbits_gal.distance.kpc,\n",
    "      orbits_gal.pm_l_cosb.to_value(u.mas/u.yr),\n",
    "      orbits_gal.pm_b.to_value(u.mas/u.yr),\n",
    "      orbits_gal.radial_velocity.to_value(u.km/u.s)]\n",
    "\n",
    "mean_tracks = [x]\n",
    "std_tracks = [x]\n",
    "for y in ys:\n",
    "    stat = binned_statistic(orbits_gal.l.degree.ravel(), \n",
    "                            y.ravel(), \n",
    "                            bins=bins)\n",
    "    _y = gaussian_filter1d(stat.statistic, sigma=2)\n",
    "    mean_tracks.append(_y)\n",
    "    \n",
    "    stat = binned_statistic(orbits_gal.l.degree.ravel(), \n",
    "                            y.ravel(), \n",
    "                            bins=bins, statistic='std')\n",
    "    _y = gaussian_filter1d(stat.statistic, sigma=2)\n",
    "    std_tracks.append(_y)\n",
    "\n",
    "mean_tracks = np.vstack(mean_tracks).T\n",
    "std_tracks = np.vstack(std_tracks).T\n",
    "\n",
    "np.save('../data/gal_mean_tracks.npy', mean_tracks)\n",
    "np.save('../data/gal_std_tracks.npy', std_tracks)"
   ]
  },
  {
   "cell_type": "code",
   "execution_count": null,
   "metadata": {},
   "outputs": [],
   "source": []
  },
  {
   "cell_type": "code",
   "execution_count": null,
   "metadata": {},
   "outputs": [],
   "source": [
    "fig, axes = plt.subplots(1, 1, figsize=(8, 5),\n",
    "                         sharex=True)\n",
    "axes = [axes]\n",
    "\n",
    "for i, name in enumerate(['z']):\n",
    "    for gal, galc in zip([c_s14.galactic, c_l17.galactic], \n",
    "                         [galcen_s14, galcen_l17]):\n",
    "        axes[i].scatter(gal.l.degree, \n",
    "                        getattr(galc, name).value)\n",
    "    \n",
    "    axes[i].plot(orbits_forw_gal.l.degree,\n",
    "                 getattr(orbits_forw, name).value,\n",
    "                 color='#aaaaaa', alpha=0.7, zorder=-100, marker='.', ls='none')\n",
    "    axes[i].plot(orbits_back_gal.l.degree,\n",
    "                 getattr(orbits_back, name).value,\n",
    "                 color='k', alpha=0.7, zorder=-100, marker='.', ls='none')\n",
    "    \n",
    "    axes[i].set_ylabel(name)\n",
    "    \n",
    "axes[0].set_ylim(-15, 15)\n",
    "\n",
    "axes[0].set_xlim(215, 95)\n",
    "axes[0].set_xlabel('$l$ [deg]')\n",
    "\n",
    "fig.tight_layout()\n",
    "\n",
    "fig.savefig('../plots/obs_orbits_z.png', dpi=250)"
   ]
  },
  {
   "cell_type": "code",
   "execution_count": null,
   "metadata": {},
   "outputs": [],
   "source": [
    "fig, axes = plt.subplots(3, 1, figsize=(8, 10),\n",
    "                         sharex=True)\n",
    "\n",
    "for i, name in enumerate(['v_x', 'v_y', 'v_z']):\n",
    "    for gal, galc in zip([gal_s14, gal_l17], \n",
    "                         [galcen_s14, galcen_l17]):\n",
    "        axes[i].scatter(gal.l.degree, \n",
    "                        getattr(galc, name).value)\n",
    "    \n",
    "    axes[i].plot(orbits_forw_gal.l.degree,\n",
    "                 getattr(orbits_forw, name).to_value(u.km/u.s),\n",
    "                 color='#aaaaaa', alpha=0.7, zorder=-100, marker='.', ls='none')\n",
    "    axes[i].plot(orbits_back_gal.l.degree,\n",
    "                 getattr(orbits_back, name).to_value(u.km/u.s),\n",
    "                 color='k', alpha=0.7, zorder=-100, marker='.', ls='none')\n",
    "    \n",
    "    axes[i].set_ylabel(name)\n",
    "    \n",
    "axes[0].set_ylim(-100, 300)\n",
    "axes[1].set_ylim(-300 + 220, 100 + 220)\n",
    "axes[2].set_ylim(-150, 150)\n",
    "\n",
    "fig.tight_layout()"
   ]
  },
  {
   "cell_type": "code",
   "execution_count": null,
   "metadata": {},
   "outputs": [],
   "source": [
    "from matplotlib.patches import Ellipse"
   ]
  },
  {
   "cell_type": "code",
   "execution_count": null,
   "metadata": {},
   "outputs": [],
   "source": [
    "xx = np.array([5., 7.])\n",
    "CC = np.array([[1.2, -0.99],\n",
    "               [-0.99, 1.**2]])\n",
    "derp = np.random.multivariate_normal(xx, CC, 1024)"
   ]
  },
  {
   "cell_type": "code",
   "execution_count": null,
   "metadata": {},
   "outputs": [],
   "source": [
    "def plot_ellipse(mu, Cov, nsigma=1, ax=None):\n",
    "    vals, vecs = np.linalg.eig(Cov)\n",
    "    alpha = np.degrees(np.arctan2(vecs[0][1], vecs[0][0]))\n",
    "    \n",
    "    ell = Ellipse(mu, \n",
    "                  nsigma*2*np.sqrt(vals[0]), \n",
    "                  nsigma*2*np.sqrt(vals[1]), \n",
    "                  angle=-alpha)\n",
    "    \n",
    "    if ax is None:\n",
    "        fig, ax = plt.subplots()\n",
    "    \n",
    "    ax.add_patch(ell)\n",
    "    \n",
    "    return ell"
   ]
  },
  {
   "cell_type": "code",
   "execution_count": null,
   "metadata": {},
   "outputs": [],
   "source": [
    "fig, ax = plt.subplots(1, 1, figsize=(6, 6))\n",
    "ax.plot(derp[:, 0], derp[:, 1], marker='.', alpha=0.5, ls='none')\n",
    "ell = plot_ellipse(xx, CC, ax=ax)"
   ]
  },
  {
   "cell_type": "code",
   "execution_count": null,
   "metadata": {},
   "outputs": [],
   "source": []
  },
  {
   "cell_type": "code",
   "execution_count": null,
   "metadata": {},
   "outputs": [],
   "source": []
  }
 ],
 "metadata": {
  "kernelspec": {
   "display_name": "Python [default]",
   "language": "python",
   "name": "python3"
  },
  "language_info": {
   "codemirror_mode": {
    "name": "ipython",
    "version": 3
   },
   "file_extension": ".py",
   "mimetype": "text/x-python",
   "name": "python",
   "nbconvert_exporter": "python",
   "pygments_lexer": "ipython3",
   "version": "3.6.8"
  }
 },
 "nbformat": 4,
 "nbformat_minor": 2
}
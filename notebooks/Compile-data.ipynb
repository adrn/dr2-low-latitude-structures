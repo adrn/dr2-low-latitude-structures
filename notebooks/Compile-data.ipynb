{
 "cells": [
  {
   "cell_type": "code",
   "execution_count": null,
   "metadata": {},
   "outputs": [],
   "source": [
    "import astropy.coordinates as coord\n",
    "from astropy.io import ascii\n",
    "from astropy.table import join, Table, Column\n",
    "import astropy.units as u\n",
    "import numpy as np\n",
    "import matplotlib as mpl\n",
    "import matplotlib.pyplot as plt\n",
    "%matplotlib inline"
   ]
  },
  {
   "cell_type": "markdown",
   "metadata": {},
   "source": [
    "I downloaded the 3 Bergemann tables from \"Extended Data Tables\" in [Bergemann et al. 2018](https://www.nature.com/articles/nature25490.pdf) by taking screenshots and using OCR to turn the screenshots into text. hashtag astronomy."
   ]
  },
  {
   "cell_type": "code",
   "execution_count": null,
   "metadata": {},
   "outputs": [],
   "source": [
    "tbl = None\n",
    "for i in range(1, 3+1):\n",
    "    filename = '../data/Bergemann{0}.txt'.format(i)\n",
    "    \n",
    "    if i == 1:\n",
    "        tbl = ascii.read(filename)\n",
    "    else:\n",
    "        tbl = join(tbl, ascii.read(filename), keys='2MASS_ID')\n",
    "        \n",
    "tbl.write('../data/Bergemann2018.csv')"
   ]
  },
  {
   "cell_type": "markdown",
   "metadata": {},
   "source": [
    "I downloaded the A13 master table from Ting's paper [Li et al. 2017](http://iopscience.iop.org/0004-637X/844/1/74/suppdata/apjaa7a0dt1_ascii.txt)."
   ]
  },
  {
   "cell_type": "code",
   "execution_count": null,
   "metadata": {},
   "outputs": [],
   "source": [
    "tbl = ascii.read('../data/Li2017-A13.txt')\n",
    "\n",
    "c = coord.SkyCoord(ra=coord.Angle(tbl['ra'], unit=u.hourangle),\n",
    "                   dec=coord.Angle(tbl['dec'], unit=u.degree),\n",
    "                   frame='fk5').transform_to(coord.ICRS)\n",
    "tbl['ra'] = c.ra.degree\n",
    "tbl['dec'] = c.dec.degree\n",
    "tbl.write('../data/Li2017-A13.csv', overwrite=True)"
   ]
  },
  {
   "cell_type": "markdown",
   "metadata": {},
   "source": [
    "I downloaded the TriAnd master table from Allyson's paper [Sheffield et al. 2014](http://iopscience.iop.org/article/10.1088/0004-637X/793/1/62/meta), removed all dwarf (D) stars, and removed the Triand1/2 distinction:"
   ]
  },
  {
   "cell_type": "code",
   "execution_count": null,
   "metadata": {},
   "outputs": [],
   "source": [
    "tbl = ascii.read('../data/Sheffield2014-TriAnd.txt')\n",
    "\n",
    "all_ra = []\n",
    "all_dec = []\n",
    "for row in tbl:\n",
    "    _ra = row['2MASS_ID'][:7]\n",
    "    _dec = row['2MASS_ID'][7:]\n",
    "    ra = coord.Longitude(':'.join([_ra[:2], _ra[2:4], '.'.join([_ra[4:6], _ra[6]])]), \n",
    "                         unit=u.hourangle)\n",
    "    dec = coord.Latitude(':'.join([_dec[:3], _dec[3:5], _dec[5:]]),\n",
    "                         unit=u.degree)\n",
    "    all_ra.append(ra)\n",
    "    all_dec.append(dec)\n",
    "\n",
    "c = coord.SkyCoord(ra=coord.Longitude(all_ra),\n",
    "                   dec=coord.Latitude(all_dec),\n",
    "                   frame='fk5').transform_to(coord.ICRS)\n",
    "    \n",
    "tbl['ra'] = c.ra.degree\n",
    "tbl['dec'] = c.dec.degree\n",
    "tbl.write('../data/Sheffield2014-TriAnd.csv', overwrite=True)"
   ]
  },
  {
   "cell_type": "markdown",
   "metadata": {},
   "source": [
    "---\n",
    "\n",
    "### Gaia cross-matches"
   ]
  },
  {
   "cell_type": "code",
   "execution_count": null,
   "metadata": {},
   "outputs": [],
   "source": [
    "from pyia import GaiaData\n",
    "from fuzzywuzzy import fuzz # OMG ALLY WHY"
   ]
  },
  {
   "cell_type": "code",
   "execution_count": null,
   "metadata": {},
   "outputs": [],
   "source": [
    "berg = Table.read('../data/Bergemann2018.csv')"
   ]
  },
  {
   "cell_type": "code",
   "execution_count": null,
   "metadata": {},
   "outputs": [],
   "source": [
    "sheff_gaia = Table.read('../data/Sheffield2014-xmatch-result.fits.gz')\n",
    "\n",
    "delete_ids = []\n",
    "for _id in ['2317414+311304', '0051100+463939']:\n",
    "    rows = sheff_gaia[sheff_gaia['col2mass_id'] == _id]\n",
    "    delete_ids.append(rows[rows['phot_rp_mean_mag'].argmax()]['source_id'])\n",
    "sheff_gaia = sheff_gaia[~np.isin(sheff_gaia['source_id'], delete_ids)]\n",
    "sheff_gaia.rename_column('col2mass_id', '2MASS_ID')"
   ]
  },
  {
   "cell_type": "code",
   "execution_count": null,
   "metadata": {},
   "outputs": [],
   "source": [
    "sheff = Table.read('../data/Sheffield2014-TriAnd.csv')\n",
    "sheff.remove_columns(['ra', 'dec', 'l', 'b'])\n",
    "assert len(np.unique(sheff_gaia['source_id'])) == len(sheff)\n",
    "\n",
    "sheff_master = join(sheff_gaia, sheff, keys='2MASS_ID')\n",
    "sheff_master['2MASS_ID'] = Column(sheff_master['2MASS_ID'], dtype='<U16')\n",
    "\n",
    "# Now add the Bergemann columns:\n",
    "for _id in berg['2MASS_ID'][np.array(['TriAnd' in x for x in berg['name']])]:\n",
    "    ratios = [fuzz.ratio(_id, x) for x in sheff['2MASS_ID']]\n",
    "    sheff_master['2MASS_ID'][np.argmax(ratios)] = _id\n",
    "\n",
    "sheff_master = join(sheff_master, berg, keys='2MASS_ID', join_type='left',\n",
    "                    uniq_col_name='{table_name}{col_name}', table_names=['', 'berg'])"
   ]
  },
  {
   "cell_type": "code",
   "execution_count": null,
   "metadata": {},
   "outputs": [],
   "source": [
    "li = Table.read('../data/Li2017-A13.csv')\n",
    "li.remove_columns(['ra', 'dec', 'l', 'b'])\n",
    "\n",
    "li_gaia = Table.read('../data/Li2017-xmatch-result.fits.gz')\n",
    "\n",
    "# Throw away A13-39 because it could be a binary:\n",
    "li_gaia = li_gaia[li_gaia['name'] != 'A13-39']\n",
    "\n",
    "li_master = join(li_gaia, li, keys='name')\n",
    "\n",
    "# Finally, add the Bergemann columns:\n",
    "li_master = join(li_master, berg, keys='name', join_type='left',\n",
    "                 uniq_col_name='{table_name}{col_name}', table_names=['', 'berg'])"
   ]
  },
  {
   "cell_type": "code",
   "execution_count": null,
   "metadata": {},
   "outputs": [],
   "source": [
    "len(li_master), len(sheff_master)"
   ]
  },
  {
   "cell_type": "code",
   "execution_count": null,
   "metadata": {},
   "outputs": [],
   "source": [
    "(np.isfinite(li_master['bergrv']).sum(), \n",
    " np.isfinite(sheff_master['bergrv']).sum())"
   ]
  },
  {
   "cell_type": "markdown",
   "metadata": {},
   "source": [
    "### Add distances:\n",
    "\n",
    "Assume [Fe/H] ~ -0.6 for all, then shrink distance by ~30% according to Bergemann.\n",
    "\n",
    "Using M_Ks relation from Sheffield et al. 2014."
   ]
  },
  {
   "cell_type": "code",
   "execution_count": null,
   "metadata": {},
   "outputs": [],
   "source": [
    "feh = -0.6\n",
    "\n",
    "# Note: different corrections based on comparing against 1-to-1 line:\n",
    "l17_dist = 0.7 * coord.Distance(distmod=li_master['Ks0'] - ((3.8 + 1.3*feh) - 8.4 * li_master['J-Ks0']))\n",
    "s14_dist = 0.8 * coord.Distance(distmod=sheff_master['Ks0'] - ((3.8 + 1.3*feh) - 8.4 * sheff_master['J-Ks0']))\n",
    "\n",
    "li_master['apw_distance'] = l17_dist.to_value(u.kpc)\n",
    "sheff_master['apw_distance'] = s14_dist.to_value(u.kpc)"
   ]
  },
  {
   "cell_type": "code",
   "execution_count": null,
   "metadata": {},
   "outputs": [],
   "source": [
    "li_master.write('../data/Li2017-Gaia-master.fits', overwrite=True)\n",
    "sheff_master.write('../data/Sheffield2014-Gaia-master.fits', overwrite=True)"
   ]
  },
  {
   "cell_type": "markdown",
   "metadata": {},
   "source": [
    "## Compare Ally/Ting RVs to Maria RVs:"
   ]
  },
  {
   "cell_type": "code",
   "execution_count": null,
   "metadata": {},
   "outputs": [],
   "source": [
    "plt.scatter(sheff_master['rv'], \n",
    "            sheff_master['bergrv'])\n",
    "\n",
    "plt.scatter(li_master['rv'], \n",
    "            li_master['bergrv'])\n",
    "\n",
    "plt.plot(np.linspace(-200, 100, 128),\n",
    "         np.linspace(-200, 100, 128),\n",
    "         marker='', zorder=-100, color='k')\n",
    "plt.xlim(-200, 100)\n",
    "plt.ylim(-200, 100)"
   ]
  },
  {
   "cell_type": "markdown",
   "metadata": {},
   "source": [
    "Compute RV error estimates:"
   ]
  },
  {
   "cell_type": "code",
   "execution_count": null,
   "metadata": {},
   "outputs": [],
   "source": [
    "np.std(sheff_master['rv'] - sheff_master['bergrv'])"
   ]
  },
  {
   "cell_type": "code",
   "execution_count": null,
   "metadata": {},
   "outputs": [],
   "source": [
    "np.std(li_master['rv'] - li_master['bergrv'])"
   ]
  },
  {
   "cell_type": "markdown",
   "metadata": {},
   "source": [
    "## Metallicity distribution"
   ]
  },
  {
   "cell_type": "code",
   "execution_count": null,
   "metadata": {},
   "outputs": [],
   "source": [
    "plt.hist(sheff_master[~sheff_master['bergrv'].mask]['fe_h'], bins='auto')\n",
    "plt.hist(li_master[~li_master['bergrv'].mask]['fe_h'], bins='auto')"
   ]
  },
  {
   "cell_type": "code",
   "execution_count": null,
   "metadata": {},
   "outputs": [],
   "source": [
    "derp = np.concatenate((list(sheff_master[~sheff_master['bergrv'].mask]['fe_h']), \n",
    "                       list(li_master[~li_master['bergrv'].mask]['fe_h'])))\n",
    "1.5 * np.median(np.abs(derp - np.median(derp)))"
   ]
  },
  {
   "cell_type": "code",
   "execution_count": null,
   "metadata": {},
   "outputs": [],
   "source": [
    "DM = coord.Distance(10*u.kpc).distmod\n",
    "coord.Distance(10*u.kpc) - coord.Distance(distmod=DM + 0.08*u.mag)"
   ]
  },
  {
   "cell_type": "markdown",
   "metadata": {},
   "source": [
    "---"
   ]
  },
  {
   "cell_type": "code",
   "execution_count": null,
   "metadata": {},
   "outputs": [],
   "source": []
  }
 ],
 "metadata": {
  "kernelspec": {
   "display_name": "Python [default]",
   "language": "python",
   "name": "python3"
  },
  "language_info": {
   "codemirror_mode": {
    "name": "ipython",
    "version": 3
   },
   "file_extension": ".py",
   "mimetype": "text/x-python",
   "name": "python",
   "nbconvert_exporter": "python",
   "pygments_lexer": "ipython3",
   "version": "3.6.4"
  }
 },
 "nbformat": 4,
 "nbformat_minor": 2
}
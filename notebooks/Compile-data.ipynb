{
 "cells": [
  {
   "cell_type": "code",
   "execution_count": null,
   "metadata": {},
   "outputs": [],
   "source": [
    "import astropy.coordinates as coord\n",
    "from astropy.io import ascii\n",
    "from astropy.table import join, Table\n",
    "import astropy.units as u\n",
    "import numpy as np\n",
    "import matplotlib as mpl\n",
    "import matplotlib.pyplot as plt\n",
    "%matplotlib inline"
   ]
  },
  {
   "cell_type": "markdown",
   "metadata": {},
   "source": [
    "I downloaded the 3 Bergemann tables from \"Extended Data Tables\" in [Bergemann et al. 2018](https://www.nature.com/articles/nature25490.pdf) by taking screenshots and using OCR to turn the screenshots into text. hashtag astronomy."
   ]
  },
  {
   "cell_type": "code",
   "execution_count": null,
   "metadata": {},
   "outputs": [],
   "source": [
    "tbl = None\n",
    "for i in range(1, 3+1):\n",
    "    filename = '../data/Bergemann{0}.txt'.format(i)\n",
    "    \n",
    "    if i == 1:\n",
    "        tbl = ascii.read(filename)\n",
    "    else:\n",
    "        tbl = join(tbl, ascii.read(filename), keys='2MASS_ID')\n",
    "        \n",
    "tbl.write('../data/Bergemann2018.csv')"
   ]
  },
  {
   "cell_type": "markdown",
   "metadata": {},
   "source": [
    "I downloaded the A13 master table from Ting's paper [Li et al. 2017](http://iopscience.iop.org/0004-637X/844/1/74/suppdata/apjaa7a0dt1_ascii.txt)."
   ]
  },
  {
   "cell_type": "code",
   "execution_count": null,
   "metadata": {},
   "outputs": [],
   "source": [
    "tbl = ascii.read('../data/Li2017-A13.txt')\n",
    "\n",
    "c = coord.SkyCoord(ra=coord.Angle(tbl['ra'], unit=u.hourangle),\n",
    "                   dec=coord.Angle(tbl['dec'], unit=u.degree),\n",
    "                   frame='fk5').transform_to(coord.ICRS)\n",
    "tbl['ra'] = c.ra.degree\n",
    "tbl['dec'] = c.dec.degree\n",
    "tbl.write('../data/Li2017-A13.csv', overwrite=True)"
   ]
  },
  {
   "cell_type": "markdown",
   "metadata": {},
   "source": [
    "I downloaded the TriAnd master table from Allyson's paper [Sheffield et al. 2014](http://iopscience.iop.org/article/10.1088/0004-637X/793/1/62/meta), removed all dwarf (D) stars, and removed the Triand1/2 distinction:"
   ]
  },
  {
   "cell_type": "code",
   "execution_count": null,
   "metadata": {},
   "outputs": [],
   "source": [
    "tbl = ascii.read('../data/Sheffield2014-TriAnd.txt')\n",
    "\n",
    "all_ra = []\n",
    "all_dec = []\n",
    "for row in tbl:\n",
    "    _ra = row['2MASS_ID'][:7]\n",
    "    _dec = row['2MASS_ID'][7:]\n",
    "    ra = coord.Longitude(':'.join([_ra[:2], _ra[2:4], '.'.join([_ra[4:6], _ra[6]])]), \n",
    "                         unit=u.hourangle)\n",
    "    dec = coord.Latitude(':'.join([_dec[:3], _dec[3:5], _dec[5:]]),\n",
    "                         unit=u.degree)\n",
    "    all_ra.append(ra)\n",
    "    all_dec.append(dec)\n",
    "\n",
    "c = coord.SkyCoord(ra=coord.Longitude(ra),\n",
    "                   dec=coord.Latitude(dec),\n",
    "                   frame='fk5').transform_to(coord.ICRS)\n",
    "    \n",
    "tbl['ra'] = c.ra.degree\n",
    "tbl['dec'] = c.dec.degree\n",
    "tbl.write('../data/Sheffield2014-TriAnd.csv', overwrite=True)"
   ]
  },
  {
   "cell_type": "markdown",
   "metadata": {},
   "source": [
    "---\n",
    "\n",
    "### Gaia cross-matches"
   ]
  },
  {
   "cell_type": "code",
   "execution_count": null,
   "metadata": {},
   "outputs": [],
   "source": [
    "sheff = Table.read('../data/Sheffield2014-TriAnd.csv')\n",
    "sheff.remove_columns(['ra', 'dec', 'l', 'b'])\n",
    "\n",
    "sheff_gaia = Table.read('../data/Sheffield2014-xmatch-result.fits.gz')\n",
    "sheff_gaia.rename_column('col2mass_id', '2MASS_ID')\n",
    "\n",
    "sheff_master = join(sheff_gaia, sheff, keys='2MASS_ID')\n",
    "sheff_master.write('../data/Sheffield2014-Gaia-master.fits')"
   ]
  },
  {
   "cell_type": "code",
   "execution_count": null,
   "metadata": {},
   "outputs": [],
   "source": [
    "li = Table.read('../data/Li2017-A13.csv')\n",
    "li.remove_columns(['ra', 'dec', 'l', 'b'])\n",
    "\n",
    "li_gaia = Table.read('../data/Li2017-xmatch-result.fits.gz')\n",
    "\n",
    "# Throw away A13-39 because it could be a binary:\n",
    "li_gaia = li_gaia[li_gaia['name'] != 'A13-39']\n",
    "\n",
    "li_master = join(li_gaia, li, keys='name')\n",
    "li_master.write('../data/Li2017-Gaia-master.fits')"
   ]
  },
  {
   "cell_type": "code",
   "execution_count": null,
   "metadata": {},
   "outputs": [],
   "source": []
  }
 ],
 "metadata": {
  "kernelspec": {
   "display_name": "Python [default]",
   "language": "python",
   "name": "python3"
  },
  "language_info": {
   "codemirror_mode": {
    "name": "ipython",
    "version": 3
   },
   "file_extension": ".py",
   "mimetype": "text/x-python",
   "name": "python",
   "nbconvert_exporter": "python",
   "pygments_lexer": "ipython3",
   "version": "3.6.4"
  }
 },
 "nbformat": 4,
 "nbformat_minor": 2
}
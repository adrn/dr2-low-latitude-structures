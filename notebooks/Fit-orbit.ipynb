{
 "cells": [
  {
   "cell_type": "code",
   "execution_count": null,
   "metadata": {},
   "outputs": [],
   "source": [
    "from os import path\n",
    "import pickle\n",
    "\n",
    "# Third-party\n",
    "import astropy.coordinates as coord\n",
    "from astropy.table import Table, join\n",
    "import astropy.units as u\n",
    "import matplotlib as mpl\n",
    "import matplotlib.pyplot as plt\n",
    "import numpy as np\n",
    "%matplotlib inline\n",
    "from scipy.interpolate import InterpolatedUnivariateSpline\n",
    "from scipy.optimize import minimize\n",
    "\n",
    "import gala.coordinates as gc\n",
    "import gala.dynamics as gd\n",
    "import gala.potential as gp\n",
    "from gala.units import galactic\n",
    "from pyia import GaiaData\n",
    "import emcee\n",
    "\n",
    "from model import OrbitFitModel"
   ]
  },
  {
   "cell_type": "code",
   "execution_count": null,
   "metadata": {},
   "outputs": [],
   "source": [
    "galcen_frame = coord.Galactocentric(galcen_distance=8.1*u.kpc, \n",
    "                                    z_sun=0*u.pc)"
   ]
  },
  {
   "cell_type": "markdown",
   "metadata": {},
   "source": [
    "### Read data:"
   ]
  },
  {
   "cell_type": "code",
   "execution_count": null,
   "metadata": {},
   "outputs": [],
   "source": [
    "g = GaiaData('../data/Sheffield2014-Gaia-master.fits')\n",
    "l0 = 160*u.deg\n",
    "\n",
    "# ---------------------------------\n",
    "\n",
    "# g = GaiaData('../data/Li2017-Gaia-master.fits')\n",
    "# l0 = 220*u.deg"
   ]
  },
  {
   "cell_type": "markdown",
   "metadata": {},
   "source": [
    "### Set up coordinates we'll use to fit:\n",
    "\n",
    "Here we use the RVs derived by Ally or Ting because they are at least consistent for all sources in each batch, and seem to agree with Maria's to ~6 km/s or so. To be conservative, we set the RV error to 8 km/s and the distance error to 15%:"
   ]
  },
  {
   "cell_type": "code",
   "execution_count": null,
   "metadata": {},
   "outputs": [],
   "source": [
    "c = g.get_skycoord(distance=g.apw_distance*u.kpc,\n",
    "                   radial_velocity=g.rv*u.km/u.s)"
   ]
  },
  {
   "cell_type": "code",
   "execution_count": null,
   "metadata": {},
   "outputs": [],
   "source": [
    "rv_err = 8. # km/s\n",
    "dist_frac_err = 0.15 # 15%"
   ]
  },
  {
   "cell_type": "code",
   "execution_count": null,
   "metadata": {},
   "outputs": [],
   "source": [
    "c_ref = gc.reflex_correct(c)\n",
    "gal = c.galactic\n",
    "gal_ref = gc.reflex_correct(gal)\n",
    "galcen = c.transform_to(galcen_frame)"
   ]
  },
  {
   "cell_type": "code",
   "execution_count": null,
   "metadata": {},
   "outputs": [],
   "source": [
    "cov = g.get_cov()[:, 3:5, 3:5]"
   ]
  },
  {
   "cell_type": "markdown",
   "metadata": {},
   "source": [
    "Prepare the data and error dictionaries we use in the likelihood to avoid dealing with unit transformations:"
   ]
  },
  {
   "cell_type": "code",
   "execution_count": null,
   "metadata": {},
   "outputs": [],
   "source": [
    "data = dict()\n",
    "for k in component_names(gal):\n",
    "    data[k] = getattr(gal, k).to_value(_units[k])"
   ]
  },
  {
   "cell_type": "code",
   "execution_count": null,
   "metadata": {},
   "outputs": [],
   "source": [
    "pm_err = np.array([np.sqrt(np.max(np.linalg.eigvals(cov[i]))) \n",
    "                   for i in range(cov.shape[0])]) # convervative approximation!\n",
    "\n",
    "errs = dict()\n",
    "errs['b'] = 0. # assume no error on b\n",
    "errs['distance'] = dist_frac_err * data['distance'] # 10% distance errors\n",
    "errs['pm_l_cosb'] = pm_err\n",
    "errs['pm_b'] = pm_err\n",
    "errs['radial_velocity'] = rv_err"
   ]
  },
  {
   "cell_type": "code",
   "execution_count": null,
   "metadata": {},
   "outputs": [],
   "source": [
    "pos_sigma = 1 * u.kpc\n",
    "vel_sigma = 20 * u.km/u.s\n",
    "\n",
    "bg_pos_sigma = 50 * u.kpc\n",
    "bg_vel_sigma = 150 * u.km/u.s"
   ]
  },
  {
   "cell_type": "code",
   "execution_count": null,
   "metadata": {},
   "outputs": [],
   "source": [
    "fig, axes = plt.subplots(5, 1, figsize=(10, 10),\n",
    "                         sharex=True)\n",
    "\n",
    "for i, name in enumerate(['b', 'distance', 'pm_l_cosb', 'pm_b', 'radial_velocity']):\n",
    "    axes[i].scatter(gal.l.degree, \n",
    "                    getattr(gal, name).value)\n",
    "\n",
    "axes[0].set_ylim(-45, 45)\n",
    "axes[1].set_ylim(5, 25)\n",
    "axes[2].set_ylim(-5, 5)\n",
    "axes[3].set_ylim(-5, 5)\n",
    "axes[4].set_ylim(-275, 125)\n",
    "\n",
    "axes[0].set_xlim(215, 95)\n",
    "\n",
    "axes[0].set_ylabel(r'$b$')\n",
    "axes[1].set_ylabel(r'$d$')\n",
    "axes[2].set_ylabel(r'$\\mu_l$')\n",
    "axes[3].set_ylabel(r'$\\mu_b$')\n",
    "axes[4].set_ylabel('$v_r$')\n",
    "axes[-1].set_xlabel('$l$ [deg]')\n",
    "\n",
    "fig.tight_layout()"
   ]
  },
  {
   "cell_type": "code",
   "execution_count": null,
   "metadata": {},
   "outputs": [],
   "source": [
    "ham.potential.parameters"
   ]
  },
  {
   "cell_type": "code",
   "execution_count": null,
   "metadata": {},
   "outputs": [],
   "source": [
    "l0 = 160*u.deg\n",
    "p0 = [1., -25., 13., 0.2, -0.2, -40., np.log(15)]\n",
    "\n",
    "# l0 = 220*u.deg\n",
    "# p0 = [1., 25., 13., 0.2, -0.2, -40., np.log(15)]\n",
    "\n",
    "# ham = gp.Hamiltonian(gp.MilkyWayPotential())\n",
    "ham = gp.Hamiltonian(gp.HernquistPotential(m=5e11, c=15, units=galactic))\n",
    "assert np.all(np.isfinite(ln_posterior(p0, l0, data, errs, ham, galcen_frame)))"
   ]
  },
  {
   "cell_type": "markdown",
   "metadata": {},
   "source": [
    "### Profile the likelihood function:"
   ]
  },
  {
   "cell_type": "code",
   "execution_count": null,
   "metadata": {},
   "outputs": [],
   "source": [
    "# %load_ext line_profiler"
   ]
  },
  {
   "cell_type": "code",
   "execution_count": null,
   "metadata": {},
   "outputs": [],
   "source": [
    "# %lprun -f get_orbit_gal ln_posterior(p0, l0, data, errs, ham, galcen_frame)"
   ]
  },
  {
   "cell_type": "markdown",
   "metadata": {},
   "source": [
    "### Check orbit computed from initial parameters:"
   ]
  },
  {
   "cell_type": "code",
   "execution_count": null,
   "metadata": {},
   "outputs": [],
   "source": [
    "orbit = get_orbit_gal(p0[1:], l0, ham, galcen_frame)\n",
    "\n",
    "fig, axes = plt.subplots(5, 1, figsize=(10, 10),\n",
    "                         sharex=True)\n",
    "\n",
    "for i, name in enumerate(['b', 'distance', 'pm_l_cosb', 'pm_b', 'radial_velocity']):\n",
    "    axes[i].scatter(gal.l.degree, \n",
    "                    getattr(gal, name).value)\n",
    "    axes[i].plot(orbit.l.degree,\n",
    "                 getattr(orbit, name).value, \n",
    "                 marker='', color='k', zorder=-10)\n",
    "\n",
    "axes[0].set_ylim(-45, 45)\n",
    "axes[1].set_ylim(5, 25)\n",
    "axes[2].set_ylim(-5, 5)\n",
    "axes[3].set_ylim(-5, 5)\n",
    "axes[4].set_ylim(-275, 125)\n",
    "\n",
    "axes[0].set_xlim(215, 95)\n",
    "\n",
    "axes[0].set_ylabel(r'$b$')\n",
    "axes[1].set_ylabel(r'$d$')\n",
    "axes[2].set_ylabel(r'$\\mu_l$')\n",
    "axes[3].set_ylabel(r'$\\mu_b$')\n",
    "axes[4].set_ylabel('$v_r$')\n",
    "axes[-1].set_xlabel('$l$ [deg]')\n",
    "\n",
    "fig.tight_layout()"
   ]
  },
  {
   "cell_type": "markdown",
   "metadata": {},
   "source": [
    "### First optimize to get best-fit orbital parameters"
   ]
  },
  {
   "cell_type": "code",
   "execution_count": null,
   "metadata": {},
   "outputs": [],
   "source": [
    "args = (l0, data, errs, ham, galcen_frame)"
   ]
  },
  {
   "cell_type": "code",
   "execution_count": null,
   "metadata": {},
   "outputs": [],
   "source": [
    "res = minimize(lambda *args, **kwargs: -ln_posterior(*args, **kwargs),\n",
    "               x0=p0, args=args, \n",
    "               method='powell')"
   ]
  },
  {
   "cell_type": "code",
   "execution_count": null,
   "metadata": {},
   "outputs": [],
   "source": [
    "orbit = get_orbit_gal(res.x[1:], l0, ham, galcen_frame)\n",
    "\n",
    "fig, axes = plt.subplots(5, 1, figsize=(10, 10),\n",
    "                         sharex=True)\n",
    "\n",
    "for i, name in enumerate(['b', 'distance', 'pm_l_cosb', 'pm_b', 'radial_velocity']):\n",
    "    axes[i].scatter(gal.l.degree, \n",
    "                    getattr(gal, name).value)\n",
    "    \n",
    "    x = orbit.l.degree.copy()\n",
    "    y = getattr(orbit, name).value.copy()\n",
    "    pos = np.where(np.abs(np.diff(x)) >= 10)[0]+1\n",
    "    x = np.insert(x, pos, np.nan)\n",
    "    y = np.insert(y, pos, np.nan)\n",
    "    axes[i].plot(x, y, \n",
    "                 marker='', color='k', zorder=-10)\n",
    "\n",
    "axes[0].set_ylim(-45, 45)\n",
    "axes[1].set_ylim(5, 25)\n",
    "axes[2].set_ylim(-5, 5)\n",
    "axes[3].set_ylim(-5, 5)\n",
    "axes[4].set_ylim(-275, 125)\n",
    "\n",
    "axes[0].set_xlim(215, 95)\n",
    "\n",
    "axes[0].set_ylabel(r'$b$')\n",
    "axes[1].set_ylabel(r'$d$')\n",
    "axes[2].set_ylabel(r'$\\mu_l$')\n",
    "axes[3].set_ylabel(r'$\\mu_b$')\n",
    "axes[4].set_ylabel('$v_r$')\n",
    "axes[-1].set_xlabel('$l$ [deg]')\n",
    "\n",
    "fig.tight_layout()"
   ]
  },
  {
   "cell_type": "markdown",
   "metadata": {},
   "source": [
    "### Run `emcee` from the best-fit parameters:"
   ]
  },
  {
   "cell_type": "code",
   "execution_count": null,
   "metadata": {},
   "outputs": [],
   "source": [
    "nwalkers = len(p0) * 8\n",
    "print('nwalkers: {0}'.format(nwalkers))\n",
    "\n",
    "sampler = emcee.EnsembleSampler(nwalkers=nwalkers, ndim=len(p0), \n",
    "                                log_prob_fn=ln_posterior, args=args)"
   ]
  },
  {
   "cell_type": "code",
   "execution_count": null,
   "metadata": {},
   "outputs": [],
   "source": [
    "p0s = emcee.utils.sample_ball(res.x, [1e-4] * len(p0), size=nwalkers)\n",
    "\n",
    "for pp in p0s:\n",
    "    assert np.all(np.isfinite(ln_posterior(pp, l0, data, errs, ham, galcen_frame)))"
   ]
  },
  {
   "cell_type": "code",
   "execution_count": null,
   "metadata": {},
   "outputs": [],
   "source": [
    "filename = '../cache/triand-sampler.pickle'\n",
    "# filename = '../cache/a13-sampler.pickle'\n",
    "if not path.exists(filename):\n",
    "    pos, *_ = sampler.run_mcmc(p0s, nsteps=1024, \n",
    "                               progress=True)\n",
    "    sampler.log_prob_fn = None\n",
    "    with open(filename, 'wb') as f:\n",
    "        pickle.dump(sampler, f)\n",
    "        \n",
    "else:\n",
    "    with open(filename, 'rb') as f:\n",
    "        sampler = pickle.load(f)"
   ]
  },
  {
   "cell_type": "code",
   "execution_count": null,
   "metadata": {
    "scrolled": false
   },
   "outputs": [],
   "source": [
    "fig, axes = plt.subplots(sampler.chain.shape[-1], 1, \n",
    "                         figsize=(8, 3*sampler.chain.shape[-1]))\n",
    "for k, ax in enumerate(axes):\n",
    "    for walker in sampler.chain[..., k]:\n",
    "        ax.plot(walker, marker='', drawstyle='steps-mid',\n",
    "                alpha=0.2)"
   ]
  },
  {
   "cell_type": "code",
   "execution_count": null,
   "metadata": {},
   "outputs": [],
   "source": [
    "flatchain = np.vstack(sampler.chain[:, 512:])\n",
    "flatlnprob = np.ravel(sampler.lnprobability[512:].T) # TODO: remove the .T when emcee is fixed"
   ]
  },
  {
   "cell_type": "markdown",
   "metadata": {},
   "source": [
    "Note: this is an approximation to the marginalization I should be doing..."
   ]
  },
  {
   "cell_type": "code",
   "execution_count": null,
   "metadata": {},
   "outputs": [],
   "source": [
    "f, *other_p = flatchain[flatlnprob.argmax()]\n",
    "ll1 = ln_likelihood_fg(other_p, *args) + np.log(f)\n",
    "ll2 = ln_likelihood_bg(other_p, *args) + np.log(1 - f)\n",
    "star_prob = np.exp(ll1 - np.logaddexp(ll1, ll2))"
   ]
  },
  {
   "cell_type": "code",
   "execution_count": null,
   "metadata": {},
   "outputs": [],
   "source": [
    "star_prob > 0.8"
   ]
  },
  {
   "cell_type": "code",
   "execution_count": null,
   "metadata": {
    "scrolled": false
   },
   "outputs": [],
   "source": [
    "mean_p = np.mean(np.vstack(sampler.chain[:, 512:]), axis=0)\n",
    "\n",
    "orbit = get_orbit_gal(mean_p[1:], l0, ham, galcen_frame)\n",
    "\n",
    "fig, axes = plt.subplots(5, 1, figsize=(10, 10),\n",
    "                         sharex=True)\n",
    "\n",
    "for i, name in enumerate(['b', 'distance', 'pm_l_cosb', 'pm_b', 'radial_velocity']):\n",
    "    axes[i].scatter(gal.l.degree, \n",
    "                    getattr(gal, name).value,\n",
    "                    c=star_prob, cmap='Greys', \n",
    "                    vmin=0, vmax=1, linewidth=1, edgecolor='k')\n",
    "    \n",
    "    x = orbit.l.degree.copy()\n",
    "    y = getattr(orbit, name).value.copy()\n",
    "    pos = np.where(np.abs(np.diff(x)) >= 10)[0]+1\n",
    "    x = np.insert(x, pos, np.nan)\n",
    "    y = np.insert(y, pos, np.nan)\n",
    "    axes[i].plot(x, y, \n",
    "                 marker='', color='tab:blue', zorder=-10)\n",
    "\n",
    "axes[0].set_ylim(-45, 45)\n",
    "axes[1].set_ylim(5, 25)\n",
    "axes[2].set_ylim(-5, 5)\n",
    "axes[3].set_ylim(-5, 5)\n",
    "axes[4].set_ylim(-275, 125)\n",
    "\n",
    "axes[0].set_xlim(215, 95)\n",
    "\n",
    "axes[0].set_ylabel(r'$b$')\n",
    "axes[1].set_ylabel(r'$d$')\n",
    "axes[2].set_ylabel(r'$\\mu_l$')\n",
    "axes[3].set_ylabel(r'$\\mu_b$')\n",
    "axes[4].set_ylabel('$v_r$')\n",
    "axes[-1].set_xlabel('$l$ [deg]')\n",
    "\n",
    "fig.tight_layout()\n",
    "# fig.savefig('../plots/orbitfit.png', dpi=250)"
   ]
  },
  {
   "cell_type": "code",
   "execution_count": null,
   "metadata": {},
   "outputs": [],
   "source": [
    "dens = []\n",
    "vcirc = []\n",
    "\n",
    "flatchain = np.vstack(sampler.chain[:, 512:])\n",
    "for k in np.random.choice(flatchain.shape[0], size=256, replace=False):\n",
    "    p = flatchain[k]\n",
    "    pot = gp.HernquistPotential(m=5e11, c=np.exp(p[-1]), \n",
    "                                units=galactic)\n",
    "    \n",
    "    q = [20., 0, 0] * u.kpc\n",
    "    dens.append(pot.density(q).to(u.Msun / u.pc**3))\n",
    "    vcirc.append(pot.circular_velocity(q).to(u.km / u.s))\n",
    "\n",
    "dens = u.Quantity(dens)\n",
    "vcirc = u.Quantity(vcirc)"
   ]
  },
  {
   "cell_type": "code",
   "execution_count": null,
   "metadata": {},
   "outputs": [],
   "source": [
    "np.mean(dens), np.std(dens)"
   ]
  },
  {
   "cell_type": "code",
   "execution_count": null,
   "metadata": {},
   "outputs": [],
   "source": [
    "np.mean(vcirc), np.std(vcirc)"
   ]
  },
  {
   "cell_type": "code",
   "execution_count": null,
   "metadata": {},
   "outputs": [],
   "source": [
    "np.mean(dens), np.std(dens)"
   ]
  },
  {
   "cell_type": "code",
   "execution_count": null,
   "metadata": {},
   "outputs": [],
   "source": [
    "np.mean(vcirc), np.std(vcirc)"
   ]
  },
  {
   "cell_type": "code",
   "execution_count": null,
   "metadata": {},
   "outputs": [],
   "source": []
  },
  {
   "cell_type": "code",
   "execution_count": null,
   "metadata": {},
   "outputs": [],
   "source": []
  }
 ],
 "metadata": {
  "kernelspec": {
   "display_name": "Python [default]",
   "language": "python",
   "name": "python3"
  },
  "language_info": {
   "codemirror_mode": {
    "name": "ipython",
    "version": 3
   },
   "file_extension": ".py",
   "mimetype": "text/x-python",
   "name": "python",
   "nbconvert_exporter": "python",
   "pygments_lexer": "ipython3",
   "version": "3.6.8"
  }
 },
 "nbformat": 4,
 "nbformat_minor": 2
}